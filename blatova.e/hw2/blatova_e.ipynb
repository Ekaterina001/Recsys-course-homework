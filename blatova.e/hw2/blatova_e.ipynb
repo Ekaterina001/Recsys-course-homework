{
 "cells": [
  {
   "cell_type": "code",
   "execution_count": 1,
   "metadata": {},
   "outputs": [],
   "source": [
    "import numpy as np\n",
    "import pandas as pd\n",
    "import time\n",
    "\n",
    "from functools import partial\n",
    "from scipy.stats import randint, uniform\n",
    "from sim_lib import simulation\n",
    "\n",
    "pd.options.mode.chained_assignment = None\n"
   ]
  },
  {
   "cell_type": "code",
   "execution_count": 2,
   "metadata": {},
   "outputs": [],
   "source": [
    "def eps_greedy(history: pd.DataFrame, eps: float):\n",
    "    if uniform.rvs() < eps:\n",
    "        n = history.shape[0]\n",
    "        return history.index[randint.rvs(0, n)]\n",
    "\n",
    "    ctr = history['clicks'] / (history['impressions'] + 10)\n",
    "    n = np.argmax(ctr)\n",
    "    return history.index[n]\n",
    "\n",
    "policy = partial(eps_greedy, eps=0.08)"
   ]
  },
  {
   "cell_type": "code",
   "execution_count": 3,
   "outputs": [],
   "source": [
    "def ucb(history: pd.DataFrame):\n",
    "    successes =  history['clicks']\n",
    "    total = history['impressions']\n",
    "    total_pulls = np.sum(total)\n",
    "    probs = successes/(total + 1e-5)\n",
    "    bound = np.sqrt ( 2 * np.log(total_pulls+1.0)/(total+1.0))\n",
    "    n = np.argmax(probs+bound)\n",
    "    return history.index[n]\n",
    "\n"
   ],
   "metadata": {
    "collapsed": false,
    "pycharm": {
     "name": "#%%\n"
    }
   }
  },
  {
   "cell_type": "code",
   "execution_count": 4,
   "outputs": [],
   "source": [
    "def thompson(history: pd.DataFrame):\n",
    "    successes =  history['clicks']\n",
    "    total = history['impressions']\n",
    "    failures = total - successes\n",
    "    n = np.argmax(np.random.beta(successes + 1, failures + 1))\n",
    "    return history.index[n]\n",
    "\n"
   ],
   "metadata": {
    "collapsed": false,
    "pycharm": {
     "name": "#%%\n"
    }
   }
  },
  {
   "cell_type": "code",
   "execution_count": 5,
   "metadata": {},
   "outputs": [
    {
     "name": "stdout",
     "output_type": "stream",
     "text": [
      "1 impressions have been simulated\n",
      "10001 impressions have been simulated\n",
      "20001 impressions have been simulated\n",
      "30001 impressions have been simulated\n",
      "40001 impressions have been simulated\n",
      "50001 impressions have been simulated\n",
      "60001 impressions have been simulated\n",
      "70001 impressions have been simulated\n",
      "80001 impressions have been simulated\n",
      "90001 impressions have been simulated\n",
      "100001 impressions have been simulated\n",
      "110001 impressions have been simulated\n",
      "120001 impressions have been simulated\n",
      "130001 impressions have been simulated\n",
      "140001 impressions have been simulated\n",
      "150001 impressions have been simulated\n",
      "160001 impressions have been simulated\n",
      "170001 impressions have been simulated\n",
      "180001 impressions have been simulated\n",
      "190001 impressions have been simulated\n"
     ]
    },
    {
     "data": {
      "text/plain": "414.67156887054443"
     },
     "execution_count": 5,
     "metadata": {},
     "output_type": "execute_result"
    }
   ],
   "source": [
    "#baseline\n",
    "# seed for homework\n",
    "np.random.seed(seed=384758917)\n",
    "\n",
    "start = time.time()\n",
    "output = simulation(policy, n=200000)\n",
    "end = time.time()\n",
    "end - start\n",
    "\n"
   ]
  },
  {
   "cell_type": "code",
   "execution_count": 6,
   "metadata": {},
   "outputs": [
    {
     "data": {
      "text/plain": "(2792.237649427154, 0.01396118824713577, 174)"
     },
     "execution_count": 6,
     "metadata": {},
     "output_type": "execute_result"
    }
   ],
   "source": [
    "# baseline regret\n",
    "output['regret'], output['regret']/output['rounds'],  output['total_banners']"
   ]
  },
  {
   "cell_type": "code",
   "execution_count": 7,
   "metadata": {},
   "outputs": [
    {
     "data": {
      "text/plain": "     impressions  clicks      lifetime         p\n132      19843.0  1332.0  10870.812904  0.064972\n162        154.0     2.0  18594.827945  0.017514\n163         86.0     0.0   5153.010937  0.000849\n164         68.0     2.0   5092.571727  0.041281\n166         48.0     0.0   5340.552070  0.007253\n167         33.0     0.0   1474.181162  0.033849\n168         23.0     0.0   4900.260295  0.027273\n169         14.0     0.0   5007.022458  0.030857\n170         18.0     0.0   8920.324215  0.034653\n171         14.0     0.0   1080.025985  0.012549",
      "text/html": "<div>\n<style scoped>\n    .dataframe tbody tr th:only-of-type {\n        vertical-align: middle;\n    }\n\n    .dataframe tbody tr th {\n        vertical-align: top;\n    }\n\n    .dataframe thead th {\n        text-align: right;\n    }\n</style>\n<table border=\"1\" class=\"dataframe\">\n  <thead>\n    <tr style=\"text-align: right;\">\n      <th></th>\n      <th>impressions</th>\n      <th>clicks</th>\n      <th>lifetime</th>\n      <th>p</th>\n    </tr>\n  </thead>\n  <tbody>\n    <tr>\n      <th>132</th>\n      <td>19843.0</td>\n      <td>1332.0</td>\n      <td>10870.812904</td>\n      <td>0.064972</td>\n    </tr>\n    <tr>\n      <th>162</th>\n      <td>154.0</td>\n      <td>2.0</td>\n      <td>18594.827945</td>\n      <td>0.017514</td>\n    </tr>\n    <tr>\n      <th>163</th>\n      <td>86.0</td>\n      <td>0.0</td>\n      <td>5153.010937</td>\n      <td>0.000849</td>\n    </tr>\n    <tr>\n      <th>164</th>\n      <td>68.0</td>\n      <td>2.0</td>\n      <td>5092.571727</td>\n      <td>0.041281</td>\n    </tr>\n    <tr>\n      <th>166</th>\n      <td>48.0</td>\n      <td>0.0</td>\n      <td>5340.552070</td>\n      <td>0.007253</td>\n    </tr>\n    <tr>\n      <th>167</th>\n      <td>33.0</td>\n      <td>0.0</td>\n      <td>1474.181162</td>\n      <td>0.033849</td>\n    </tr>\n    <tr>\n      <th>168</th>\n      <td>23.0</td>\n      <td>0.0</td>\n      <td>4900.260295</td>\n      <td>0.027273</td>\n    </tr>\n    <tr>\n      <th>169</th>\n      <td>14.0</td>\n      <td>0.0</td>\n      <td>5007.022458</td>\n      <td>0.030857</td>\n    </tr>\n    <tr>\n      <th>170</th>\n      <td>18.0</td>\n      <td>0.0</td>\n      <td>8920.324215</td>\n      <td>0.034653</td>\n    </tr>\n    <tr>\n      <th>171</th>\n      <td>14.0</td>\n      <td>0.0</td>\n      <td>1080.025985</td>\n      <td>0.012549</td>\n    </tr>\n  </tbody>\n</table>\n</div>"
     },
     "execution_count": 7,
     "metadata": {},
     "output_type": "execute_result"
    }
   ],
   "source": [
    "output['history']"
   ]
  },
  {
   "cell_type": "code",
   "execution_count": null,
   "outputs": [],
   "source": [],
   "metadata": {
    "collapsed": false,
    "pycharm": {
     "name": "#%%\n"
    }
   }
  },
  {
   "cell_type": "code",
   "execution_count": 8,
   "metadata": {},
   "outputs": [
    {
     "name": "stdout",
     "output_type": "stream",
     "text": [
      "1 impressions have been simulated\n",
      "10001 impressions have been simulated\n",
      "20001 impressions have been simulated\n",
      "30001 impressions have been simulated\n",
      "40001 impressions have been simulated\n",
      "50001 impressions have been simulated\n",
      "60001 impressions have been simulated\n",
      "70001 impressions have been simulated\n",
      "80001 impressions have been simulated\n",
      "90001 impressions have been simulated\n",
      "100001 impressions have been simulated\n",
      "110001 impressions have been simulated\n",
      "120001 impressions have been simulated\n",
      "130001 impressions have been simulated\n",
      "140001 impressions have been simulated\n",
      "150001 impressions have been simulated\n",
      "160001 impressions have been simulated\n",
      "170001 impressions have been simulated\n",
      "180001 impressions have been simulated\n",
      "190001 impressions have been simulated\n"
     ]
    },
    {
     "data": {
      "text/plain": "448.99042415618896"
     },
     "execution_count": 8,
     "metadata": {},
     "output_type": "execute_result"
    }
   ],
   "source": [
    "np.random.seed(seed=384758917)\n",
    "policy = ucb\n",
    "\n",
    "start = time.time()\n",
    "output = simulation(policy, n=200000)\n",
    "end = time.time()\n",
    "end - start"
   ]
  },
  {
   "cell_type": "code",
   "execution_count": 9,
   "outputs": [
    {
     "data": {
      "text/plain": "(8688.956339066108, 0.04344478169533054, 185)"
     },
     "execution_count": 9,
     "metadata": {},
     "output_type": "execute_result"
    }
   ],
   "source": [
    "output['regret'], output['regret']/output['rounds'],  output['total_banners']"
   ],
   "metadata": {
    "collapsed": false,
    "pycharm": {
     "name": "#%%\n"
    }
   }
  },
  {
   "cell_type": "code",
   "execution_count": 10,
   "outputs": [
    {
     "data": {
      "text/plain": "     impressions  clicks      lifetime         p\n169        408.0     7.0  12570.660923  0.014629\n173        883.0    73.0   2590.948318  0.077850\n174        630.0    36.0   1630.594595  0.059940\n177       1549.0   181.0   1959.841208  0.109108\n178        504.0    19.0  18537.925424  0.055495\n181        373.0     3.0    660.380946  0.005876\n182        449.0    12.0   3253.772281  0.032968\n184        365.0     2.0   3025.997858  0.008220",
      "text/html": "<div>\n<style scoped>\n    .dataframe tbody tr th:only-of-type {\n        vertical-align: middle;\n    }\n\n    .dataframe tbody tr th {\n        vertical-align: top;\n    }\n\n    .dataframe thead th {\n        text-align: right;\n    }\n</style>\n<table border=\"1\" class=\"dataframe\">\n  <thead>\n    <tr style=\"text-align: right;\">\n      <th></th>\n      <th>impressions</th>\n      <th>clicks</th>\n      <th>lifetime</th>\n      <th>p</th>\n    </tr>\n  </thead>\n  <tbody>\n    <tr>\n      <th>169</th>\n      <td>408.0</td>\n      <td>7.0</td>\n      <td>12570.660923</td>\n      <td>0.014629</td>\n    </tr>\n    <tr>\n      <th>173</th>\n      <td>883.0</td>\n      <td>73.0</td>\n      <td>2590.948318</td>\n      <td>0.077850</td>\n    </tr>\n    <tr>\n      <th>174</th>\n      <td>630.0</td>\n      <td>36.0</td>\n      <td>1630.594595</td>\n      <td>0.059940</td>\n    </tr>\n    <tr>\n      <th>177</th>\n      <td>1549.0</td>\n      <td>181.0</td>\n      <td>1959.841208</td>\n      <td>0.109108</td>\n    </tr>\n    <tr>\n      <th>178</th>\n      <td>504.0</td>\n      <td>19.0</td>\n      <td>18537.925424</td>\n      <td>0.055495</td>\n    </tr>\n    <tr>\n      <th>181</th>\n      <td>373.0</td>\n      <td>3.0</td>\n      <td>660.380946</td>\n      <td>0.005876</td>\n    </tr>\n    <tr>\n      <th>182</th>\n      <td>449.0</td>\n      <td>12.0</td>\n      <td>3253.772281</td>\n      <td>0.032968</td>\n    </tr>\n    <tr>\n      <th>184</th>\n      <td>365.0</td>\n      <td>2.0</td>\n      <td>3025.997858</td>\n      <td>0.008220</td>\n    </tr>\n  </tbody>\n</table>\n</div>"
     },
     "execution_count": 10,
     "metadata": {},
     "output_type": "execute_result"
    }
   ],
   "source": [
    "output['history']"
   ],
   "metadata": {
    "collapsed": false,
    "pycharm": {
     "name": "#%%\n"
    }
   }
  },
  {
   "cell_type": "markdown",
   "source": [
    "UCB получился хуже бейзлайна (как и говорили на лекции, ожидаемо для системы с умирающими ручками)\n"
   ],
   "metadata": {
    "collapsed": false,
    "pycharm": {
     "name": "#%% md\n"
    }
   }
  },
  {
   "cell_type": "code",
   "execution_count": 11,
   "outputs": [
    {
     "name": "stdout",
     "output_type": "stream",
     "text": [
      "1 impressions have been simulated\n",
      "10001 impressions have been simulated\n",
      "20001 impressions have been simulated\n",
      "30001 impressions have been simulated\n",
      "40001 impressions have been simulated\n",
      "50001 impressions have been simulated\n",
      "60001 impressions have been simulated\n",
      "70001 impressions have been simulated\n",
      "80001 impressions have been simulated\n",
      "90001 impressions have been simulated\n",
      "100001 impressions have been simulated\n",
      "110001 impressions have been simulated\n",
      "120001 impressions have been simulated\n",
      "130001 impressions have been simulated\n",
      "140001 impressions have been simulated\n",
      "150001 impressions have been simulated\n",
      "160001 impressions have been simulated\n",
      "170001 impressions have been simulated\n",
      "180001 impressions have been simulated\n",
      "190001 impressions have been simulated\n"
     ]
    },
    {
     "data": {
      "text/plain": "379.70093727111816"
     },
     "execution_count": 11,
     "metadata": {},
     "output_type": "execute_result"
    }
   ],
   "source": [
    "np.random.seed(seed=384758917)\n",
    "policy = thompson\n",
    "\n",
    "start = time.time()\n",
    "output = simulation(policy, n=200000)\n",
    "end = time.time()\n",
    "end - start"
   ],
   "metadata": {
    "collapsed": false,
    "pycharm": {
     "name": "#%%\n"
    }
   }
  },
  {
   "cell_type": "code",
   "execution_count": 12,
   "outputs": [
    {
     "data": {
      "text/plain": "(1471.230717361168, 0.00735615358680584, 179)"
     },
     "execution_count": 12,
     "metadata": {},
     "output_type": "execute_result"
    }
   ],
   "source": [
    "output['regret'], output['regret']/output['rounds'],  output['total_banners']"
   ],
   "metadata": {
    "collapsed": false,
    "pycharm": {
     "name": "#%%\n"
    }
   }
  },
  {
   "cell_type": "code",
   "execution_count": 13,
   "outputs": [
    {
     "data": {
      "text/plain": "     impressions  clicks      lifetime         p\n154        156.0     0.0  16595.715595  0.000442\n169       3736.0   144.0  11415.767481  0.039232\n175       4496.0   596.0  11381.152627  0.137817\n178         42.0     1.0   4959.290645  0.030834",
      "text/html": "<div>\n<style scoped>\n    .dataframe tbody tr th:only-of-type {\n        vertical-align: middle;\n    }\n\n    .dataframe tbody tr th {\n        vertical-align: top;\n    }\n\n    .dataframe thead th {\n        text-align: right;\n    }\n</style>\n<table border=\"1\" class=\"dataframe\">\n  <thead>\n    <tr style=\"text-align: right;\">\n      <th></th>\n      <th>impressions</th>\n      <th>clicks</th>\n      <th>lifetime</th>\n      <th>p</th>\n    </tr>\n  </thead>\n  <tbody>\n    <tr>\n      <th>154</th>\n      <td>156.0</td>\n      <td>0.0</td>\n      <td>16595.715595</td>\n      <td>0.000442</td>\n    </tr>\n    <tr>\n      <th>169</th>\n      <td>3736.0</td>\n      <td>144.0</td>\n      <td>11415.767481</td>\n      <td>0.039232</td>\n    </tr>\n    <tr>\n      <th>175</th>\n      <td>4496.0</td>\n      <td>596.0</td>\n      <td>11381.152627</td>\n      <td>0.137817</td>\n    </tr>\n    <tr>\n      <th>178</th>\n      <td>42.0</td>\n      <td>1.0</td>\n      <td>4959.290645</td>\n      <td>0.030834</td>\n    </tr>\n  </tbody>\n</table>\n</div>"
     },
     "execution_count": 13,
     "metadata": {},
     "output_type": "execute_result"
    }
   ],
   "source": [
    "output['history']\n",
    "\n",
    "\n"
   ],
   "metadata": {
    "collapsed": false,
    "pycharm": {
     "name": "#%%\n"
    }
   }
  },
  {
   "cell_type": "markdown",
   "source": [
    "Thompson sampling побил бейзлайн\n"
   ],
   "metadata": {
    "collapsed": false,
    "pycharm": {
     "name": "#%% md\n"
    }
   }
  },
  {
   "cell_type": "code",
   "execution_count": null,
   "outputs": [],
   "source": [],
   "metadata": {
    "collapsed": false,
    "pycharm": {
     "name": "#%%\n"
    }
   }
  },
  {
   "cell_type": "code",
   "execution_count": null,
   "outputs": [],
   "source": [],
   "metadata": {
    "collapsed": false,
    "pycharm": {
     "name": "#%%\n"
    }
   }
  },
  {
   "cell_type": "code",
   "execution_count": null,
   "outputs": [],
   "source": [],
   "metadata": {
    "collapsed": false,
    "pycharm": {
     "name": "#%%\n"
    }
   }
  },
  {
   "cell_type": "code",
   "execution_count": null,
   "outputs": [],
   "source": [],
   "metadata": {
    "collapsed": false,
    "pycharm": {
     "name": "#%%\n"
    }
   }
  },
  {
   "cell_type": "code",
   "execution_count": null,
   "outputs": [],
   "source": [],
   "metadata": {
    "collapsed": false,
    "pycharm": {
     "name": "#%%\n"
    }
   }
  },
  {
   "cell_type": "code",
   "execution_count": null,
   "outputs": [],
   "source": [],
   "metadata": {
    "collapsed": false,
    "pycharm": {
     "name": "#%%\n"
    }
   }
  }
 ],
 "metadata": {
  "kernelspec": {
   "display_name": "Python 3",
   "language": "python",
   "name": "python3"
  },
  "language_info": {
   "codemirror_mode": {
    "name": "ipython",
    "version": 3
   },
   "file_extension": ".py",
   "mimetype": "text/x-python",
   "name": "python",
   "nbconvert_exporter": "python",
   "pygments_lexer": "ipython3",
   "version": "3.7.4"
  }
 },
 "nbformat": 4,
 "nbformat_minor": 4
}